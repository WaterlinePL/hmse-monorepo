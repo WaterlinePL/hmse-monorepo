{
 "cells": [
  {
   "cell_type": "markdown",
   "metadata": {},
   "source": [
    "# Example 2: Infiltration of Water into a Two-Layered Soil Profile "
   ]
  },
  {
   "cell_type": "markdown",
   "metadata": {},
   "source": [
    "This notebook presents steps to replicate example 2 from: *David Rassam, Jirka Šimůnek, Dirk Mallants,and Martinus Th. van Genuchten, The HYDRUS-1D Software Package for Simulating the One-Dimensional Movement of Water, Heat, and Multiple Solutes in Variably-Saturated Media* \\\n",
    "Tutorial \\\n",
    "Version 1.00, July 2018"
   ]
  },
  {
   "cell_type": "markdown",
   "metadata": {},
   "source": [
    "This example provides insctructions to create a Pydrus model that involves a time-variable atmospheric boundary condition with a soil profile consisting of a 50-cm soil layer of clay loam underlain by a 50-cm soil layer of sandy loam. The soil profile is initially unsaturated, having an initial pressure head of -100 cm. The upper boundary and lower boundary are represented with: \n",
    "\n",
    "* Upper BC: Atmospheric Boundary Condition with a Surface Layer (allows accumulation or ponding of water on soil surface).\n",
    "* Bottom BC: Seepage face boundary condition (water starts draining when the bottom of profile reaches full saturation). "
   ]
  },
  {
   "cell_type": "markdown",
   "metadata": {},
   "source": [
    "### 1. Import the Pydrus package"
   ]
  },
  {
   "cell_type": "code",
   "execution_count": 1,
   "metadata": {},
   "source": [
    "import os\n",
    "import pandas as pd\n",
    "import phydrus as ps\n",
    "%matplotlib inline"
   ],
   "outputs": []
  },
  {
   "cell_type": "markdown",
   "metadata": {},
   "source": [
    "### 2. Create the basic model & add time information"
   ]
  },
  {
   "cell_type": "code",
   "execution_count": 2,
   "metadata": {},
   "source": [
    "# Folder for Hydrus files to be stored\n",
    "ws = \"example_2\"\n",
    "# Path to folder containing hydrus.exe \n",
    "exe = os.path.join(os.getcwd(),\"../../source/hydrus.exe\")  \n",
    "# Description\n",
    "desc = \"Infiltration of Water into a Two-Layered Soil Profile\"\n",
    "# Create model\n",
    "ml = ps.Model(exe_name=exe, ws_name=ws, name=\"model\", description=desc, \n",
    "              mass_units=\"mmol\", time_unit=\"days\", length_unit=\"cm\")\n",
    "ml.basic_info[\"lFlux\"] = True\n",
    "ml.basic_info[\"lShort\"] = False\n",
    "\n",
    "time = [2, 4, 5, 6, 10, 20]\n",
    "ml.add_time_info(tmax=20, print_array=time, dt=0.001, dtmax=0.1)"
   ],
   "outputs": []
  },
  {
   "cell_type": "markdown",
   "metadata": {},
   "source": [
    "### 3. Add processes and materials"
   ]
  },
  {
   "cell_type": "code",
   "execution_count": 3,
   "metadata": {},
   "source": [
    "ml.add_waterflow(model=3, top_bc=2, bot_bc=6)\n",
    "\n",
    "m = ml.get_empty_material_df(n=2)\n",
    "m.loc[[1, 2]] = [[0.095, 0.41, 0.019, 1.31, 6.24, 0.5],\n",
    "                 [0.065, 0.41, 0.075, 1.89, 106.1, 0.5]]\n",
    "ml.add_material(m)"
   ],
   "outputs": []
  },
  {
   "cell_type": "markdown",
   "metadata": {},
   "source": [
    "### 4. Add profile information"
   ]
  },
  {
   "cell_type": "code",
   "execution_count": 4,
   "metadata": {},
   "source": [
    "nodes = 100  # Disctretize soil column into n elements\n",
    "depth = [-51, -100]  # Depth of the soil column\n",
    "ihead = -100  # Determine initial Pressure Head\n",
    "# Create Profile\n",
    "profile = ps.create_profile(bot=depth, dx=abs(depth[-1] / nodes), h=ihead, mat=m.index)\n",
    "ml.add_profile(profile)  # Add the profile"
   ],
   "outputs": []
  },
  {
   "cell_type": "markdown",
   "metadata": {},
   "source": [
    "### 5. Add observation nodes"
   ]
  },
  {
   "cell_type": "code",
   "execution_count": 5,
   "metadata": {},
   "source": [
    "# Add observation nodes at depth\n",
    "ml.add_obs_nodes([0, -50, -100])"
   ],
   "outputs": []
  },
  {
   "cell_type": "markdown",
   "metadata": {},
   "source": [
    "### 6. Add atmosphere boundary conditions"
   ]
  },
  {
   "cell_type": "code",
   "execution_count": 6,
   "metadata": {},
   "source": [
    "time = (2, 5, 7, 10, 20)\n",
    "bc = {\"tAtm\": time, \"Prec\": (6, 10, 2, 0, 0), \"rSoil\": (0, 0, 0, 0, 1)}\n",
    "atm = pd.DataFrame(bc, index=time)\n",
    "ml.add_atmospheric_bc(atm, hcrits=3, hcrita=50000)"
   ],
   "outputs": []
  },
  {
   "cell_type": "markdown",
   "metadata": {},
   "source": [
    "### 7. Write hydrus input files and run hydrus"
   ]
  },
  {
   "cell_type": "code",
   "execution_count": 7,
   "metadata": {},
   "source": [
    "ml.write_input()\n",
    "ml.simulate()"
   ],
   "outputs": []
  },
  {
   "cell_type": "markdown",
   "metadata": {},
   "source": [
    "### 8. Plot results"
   ]
  },
  {
   "cell_type": "code",
   "execution_count": 8,
   "metadata": {},
   "source": [
    "import matplotlib.pyplot as plt\n",
    "dfs = ml.read_obs_node()\n",
    "fig, ax = plt.subplots(figsize=(4,3))\n",
    "for i, df in dfs.items():\n",
    "    name = \"Node {}\".format(i)\n",
    "    df.plot(y=\"h\", ax=ax, label=name, use_index=True)\n",
    "ax.set_xlabel(\"Time [{}]\".format(ml.basic_info[\"TUnit\"]))\n",
    "ax.set_ylabel(\"h\")\n",
    "ax.set_ylim(-100, 10)"
   ],
   "outputs": []
  },
  {
   "cell_type": "code",
   "execution_count": 9,
   "metadata": {},
   "source": [
    "ml.plots.profile_information(times=[2.0, 4.0, 5.0, 10.0])"
   ],
   "outputs": []
  },
  {
   "cell_type": "code",
   "execution_count": 10,
   "metadata": {},
   "source": [
    "ml.plots.profile_information(\"Water Content\", times=[2.0, 10.0])"
   ],
   "outputs": []
  },
  {
   "cell_type": "code",
   "execution_count": 11,
   "metadata": {},
   "source": [
    "ml.plots.water_flow(data=\"Actual Surface Flux\")"
   ],
   "outputs": []
  },
  {
   "cell_type": "code",
   "execution_count": 12,
   "metadata": {},
   "source": [
    "ml.plots.water_flow(data=\"Bottom Flux\")"
   ],
   "outputs": []
  },
  {
   "cell_type": "code",
   "execution_count": null,
   "metadata": {},
   "source": [],
   "outputs": []
  }
 ],
 "metadata": {
  "kernelspec": {
   "display_name": "Python 3",
   "language": "python",
   "name": "python3"
  },
  "language_info": {
   "codemirror_mode": {
    "name": "ipython",
    "version": 3
   },
   "file_extension": ".py",
   "mimetype": "text/x-python",
   "name": "python",
   "nbconvert_exporter": "python",
   "pygments_lexer": "ipython3",
   "version": "3.8.3"
  }
 },
 "nbformat": 4,
 "nbformat_minor": 4
}
